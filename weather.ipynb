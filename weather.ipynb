{
 "cells": [
  {
   "cell_type": "code",
   "execution_count": 24,
   "id": "a824ebbb-998e-4a1d-aaf0-834cc3afb303",
   "metadata": {},
   "outputs": [],
   "source": [
    "import pandas as pd\n",
    "import numpy as np\n",
    "from sklearn.ensemble import RandomForestClassifier\n",
    "from sklearn.model_selection import train_test_split\n",
    "from sklearn.preprocessing import StandardScaler, LabelEncoder, OneHotEncoder\n",
    "from sklearn.compose import ColumnTransformer\n",
    "from sklearn.pipeline import Pipeline\n",
    "from sklearn.metrics import accuracy_score\n",
    "from sklearn.impute import SimpleImputer\n",
    "import joblib\n",
    "import numpy as np"
   ]
  },
  {
   "cell_type": "code",
   "execution_count": 26,
   "id": "c1869b98-5a32-4bcf-ab75-10c9d24efbe6",
   "metadata": {},
   "outputs": [],
   "source": [
    "data = pd.read_csv(\"data/weatherAUS.csv\")"
   ]
  },
  {
   "cell_type": "code",
   "execution_count": 27,
   "id": "c6464604-d2e0-4a60-98f0-05fd4f93f62e",
   "metadata": {},
   "outputs": [],
   "source": [
    "selected_columns = [\n",
    "    'MinTemp', 'MaxTemp', 'Rainfall', 'Evaporation', 'Sunshine',\n",
    "    'Cloud3pm', 'Temp9am', 'Temp3pm', 'RainToday', 'RainTomorrow'\n",
    "]\n",
    "data = data[selected_columns]\n",
    "\n",
    "\n",
    "label_encoder = LabelEncoder()\n",
    "data['RainTomorrow'] = label_encoder.fit_transform(data['RainTomorrow'])\n",
    "\n",
    "\n",
    "X = data.drop(columns='RainTomorrow')\n",
    "y = data['RainTomorrow']\n",
    "\n",
    "# Split the data into training and testing sets\n",
    "seed = 42  \n",
    "X_train, X_test, y_train, y_test = train_test_split(\n",
    "    X, y, test_size=0.3, random_state=seed, stratify=y)\n",
    "\n",
    "# Step 2: Build the pipeline\n",
    "numerical_features = ['MinTemp', 'MaxTemp', 'Rainfall', 'Evaporation', 'Sunshine', 'Cloud3pm', 'Temp9am', 'Temp3pm']\n",
    "numerical_transformer = Pipeline(steps=[\n",
    "    ('imputer', SimpleImputer(strategy='mean')),\n",
    "    ('scaler', StandardScaler())\n",
    "])\n",
    "\n",
    "# Define preprocessing for categorical features: impute missing values, encode as binary\n",
    "categorical_features = ['RainToday']\n",
    "categorical_transformer = Pipeline(steps=[\n",
    "    ('imputer', SimpleImputer(strategy='most_frequent')),\n",
    "    ('encoder', OneHotEncoder(drop='if_binary'))\n",
    "])\n",
    "\n",
    "# Combine preprocessing steps\n",
    "preprocessor = ColumnTransformer(\n",
    "    transformers=[\n",
    "        ('num', numerical_transformer, numerical_features),\n",
    "        ('cat', categorical_transformer, categorical_features)\n",
    "    ]\n",
    ")\n",
    "\n",
    "# Create the full pipeline by adding the classifier\n",
    "pipeline = Pipeline(steps=[\n",
    "    ('preprocessor', preprocessor),\n",
    "    ('classifier', RandomForestClassifier(random_state=42))\n",
    "])"
   ]
  },
  {
   "cell_type": "code",
   "execution_count": 30,
   "id": "28c7fdc8-9c33-4c62-9cf4-cda34cc71e5b",
   "metadata": {},
   "outputs": [
    {
     "name": "stdout",
     "output_type": "stream",
     "text": [
      "Accuracy of the Random Forest model with pipeline: 0.81\n"
     ]
    }
   ],
   "source": [
    "pipeline.fit(X_train, y_train)\n",
    "y_pred = pipeline.predict(X_test)\n",
    "accuracy = accuracy_score(y_test, y_pred)\n",
    "print(f\"Accuracy of the Random Forest model with pipeline: {accuracy:.2f}\")"
   ]
  },
  {
   "cell_type": "code",
   "execution_count": 34,
   "id": "69e43a75-e8fb-43f1-a690-a9c4e5fa6739",
   "metadata": {},
   "outputs": [
    {
     "data": {
      "text/plain": [
       "['model/aussie_rain_pipeline.joblib']"
      ]
     },
     "execution_count": 34,
     "metadata": {},
     "output_type": "execute_result"
    }
   ],
   "source": [
    "joblib.dump(pipeline, 'model/aussie_rain_pipeline.joblib', compress=('zlib', 3))"
   ]
  }
 ],
 "metadata": {
  "kernelspec": {
   "display_name": "Python 3 (ipykernel)",
   "language": "python",
   "name": "python3"
  },
  "language_info": {
   "codemirror_mode": {
    "name": "ipython",
    "version": 3
   },
   "file_extension": ".py",
   "mimetype": "text/x-python",
   "name": "python",
   "nbconvert_exporter": "python",
   "pygments_lexer": "ipython3",
   "version": "3.12.4"
  }
 },
 "nbformat": 4,
 "nbformat_minor": 5
}
